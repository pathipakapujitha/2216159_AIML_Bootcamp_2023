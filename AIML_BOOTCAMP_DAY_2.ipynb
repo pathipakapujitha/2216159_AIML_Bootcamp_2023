{
  "nbformat": 4,
  "nbformat_minor": 0,
  "metadata": {
    "colab": {
      "provenance": [],
      "authorship_tag": "ABX9TyN3uxLDHxfDBVmbuTLPdhAp",
      "include_colab_link": true
    },
    "kernelspec": {
      "name": "python3",
      "display_name": "Python 3"
    },
    "language_info": {
      "name": "python"
    }
  },
  "cells": [
    {
      "cell_type": "markdown",
      "metadata": {
        "id": "view-in-github",
        "colab_type": "text"
      },
      "source": [
        "<a href=\"https://colab.research.google.com/github/pathipakapujitha/2216159_AIML_Bootcamp_2023/blob/main/AIML_BOOTCAMP_DAY_2.ipynb\" target=\"_parent\"><img src=\"https://colab.research.google.com/assets/colab-badge.svg\" alt=\"Open In Colab\"/></a>"
      ]
    },
    {
      "cell_type": "code",
      "execution_count": 1,
      "metadata": {
        "colab": {
          "base_uri": "https://localhost:8080/"
        },
        "id": "AoONoLJ8GxNT",
        "outputId": "2446d565-a757-466e-bb7d-d63571b33fe9"
      },
      "outputs": [
        {
          "output_type": "stream",
          "name": "stdout",
          "text": [
            "arithmetic operators\n",
            "22\n",
            "18\n",
            "10.0\n",
            "40\n",
            "400\n",
            "10\n"
          ]
        }
      ],
      "source": [
        "#arithmetic operators\n",
        "print(\"arithmetic operators\")\n",
        "a=20\n",
        "b=2\n",
        "\n",
        "print(a+b)\n",
        "print(a-b)\n",
        "print(a/b)\n",
        "print(a*b)\n",
        "print(a**b)\n",
        "print(a//b)"
      ]
    },
    {
      "cell_type": "code",
      "source": [
        "#comparison operators\n",
        "\n",
        "a==b\n",
        "a<=b\n",
        "a>=b\n",
        "a<>b\n",
        "a!=b"
      ],
      "metadata": {
        "id": "Eq14yMa4G6be"
      },
      "execution_count": null,
      "outputs": []
    },
    {
      "cell_type": "code",
      "source": [
        "#assignment operators\n",
        "a=20\n",
        "b=2\n",
        "\n",
        "c=a+b\n",
        "c-=a\n",
        "print(c)"
      ],
      "metadata": {
        "colab": {
          "base_uri": "https://localhost:8080/"
        },
        "id": "00M23WDhG7id",
        "outputId": "a7b5a3af-e2c5-44c9-9ad1-3a7058ba3655"
      },
      "execution_count": 2,
      "outputs": [
        {
          "output_type": "stream",
          "name": "stdout",
          "text": [
            "2\n"
          ]
        }
      ]
    },
    {
      "cell_type": "code",
      "source": [
        "#logical operators-and or not\n",
        "t=True\n",
        "f=False\n",
        "print(\"t and f is:\",t and f)\n",
        "print(\"t or f is:\",t or f)\n",
        "print(\"t not f is:\",not f)"
      ],
      "metadata": {
        "colab": {
          "base_uri": "https://localhost:8080/"
        },
        "id": "9cqzo8x7G-0k",
        "outputId": "c6aef46b-0081-4d8d-f98f-45fb68ecc58d"
      },
      "execution_count": 3,
      "outputs": [
        {
          "output_type": "stream",
          "name": "stdout",
          "text": [
            "t and f is: False\n",
            "t or f is: True\n",
            "t not f is: True\n"
          ]
        }
      ]
    },
    {
      "cell_type": "code",
      "source": [
        "#bitwise opearators\n",
        "a=13 #0000 1101\n",
        "b=14 #0000 1110\n",
        "\n",
        "print(a&b) #and\n",
        "print(a|b) #or\n",
        "print(~a) #not\n",
        "print(a^b) #XOr\n",
        "print(a>>2) #right shift\n",
        "print(a<<2) #left shift"
      ],
      "metadata": {
        "colab": {
          "base_uri": "https://localhost:8080/"
        },
        "id": "u6-A3Tp6HB9s",
        "outputId": "dc142b0a-8e0c-48bb-b6cf-6b40e41d3622"
      },
      "execution_count": 4,
      "outputs": [
        {
          "output_type": "stream",
          "name": "stdout",
          "text": [
            "12\n",
            "15\n",
            "-14\n",
            "3\n",
            "3\n",
            "52\n"
          ]
        }
      ]
    },
    {
      "cell_type": "code",
      "source": [
        "#membership operators\n",
        "a=\"hello world!\"\n",
        "print(\"l\" in a)"
      ],
      "metadata": {
        "colab": {
          "base_uri": "https://localhost:8080/"
        },
        "id": "Z4pywX-LHGmn",
        "outputId": "4f552491-c7d6-4f87-dfe3-267b655c7c4f"
      },
      "execution_count": 5,
      "outputs": [
        {
          "output_type": "stream",
          "name": "stdout",
          "text": [
            "True\n"
          ]
        }
      ]
    },
    {
      "cell_type": "code",
      "source": [
        "#identity operators\n",
        "a1=5\n",
        "b1=5\n",
        "a2=\"yayy\"\n",
        "b2=\"yayy\"\n",
        "a3=[6,7,8]\n",
        "b3=[6,7,8]\n",
        "print(a1 is not b1)\n",
        "print(a2 is b2)\n",
        "print(a3 is b3)"
      ],
      "metadata": {
        "colab": {
          "base_uri": "https://localhost:8080/"
        },
        "id": "DdKAcnzJHJvx",
        "outputId": "9b956c01-999b-4e32-b990-6abf9d8bead7"
      },
      "execution_count": 6,
      "outputs": [
        {
          "output_type": "stream",
          "name": "stdout",
          "text": [
            "False\n",
            "True\n",
            "False\n"
          ]
        }
      ]
    },
    {
      "cell_type": "code",
      "source": [
        "a=int(input(\"enter value of a:\"))\n",
        "print(a)\n",
        "\n",
        "b=input(\"enter string\")\n",
        "print(b)"
      ],
      "metadata": {
        "colab": {
          "base_uri": "https://localhost:8080/"
        },
        "id": "5tBYkZTQHNrL",
        "outputId": "b183f86d-8468-4493-9d39-0eceb37897d8"
      },
      "execution_count": 8,
      "outputs": [
        {
          "output_type": "stream",
          "name": "stdout",
          "text": [
            "enter value of a:5\n",
            "5\n",
            "enter stringpuja\n",
            "puja\n"
          ]
        }
      ]
    },
    {
      "cell_type": "code",
      "source": [
        "#strings\n",
        "\n",
        "str=\"Puja\"\n",
        "\n",
        "#indexing\n",
        "print(str[0])\n",
        "print(str[-1])\n",
        "\n",
        "#slicing\n",
        "print(str[0:5:2])\n",
        "\n",
        "print(str[::])\n",
        "\n",
        "#reverse of string\n",
        "print(str[::-1])\n",
        "\n",
        "#string methods\n",
        "my_str=\" Iam Pujitha\"\n",
        "print(my_str.upper())\n",
        "print(my_str.lower())\n",
        "print(my_str.swapcase()) #lower to caps and viceversa\n",
        "print(my_str.lstrip())\n",
        "\n",
        "#string operations\n",
        "str1=\"hello\"\n",
        "str2=\"This is me\"\n",
        "print(str1+str2)\n",
        "print(str1*2)"
      ],
      "metadata": {
        "colab": {
          "base_uri": "https://localhost:8080/"
        },
        "id": "wRVO_FgGHhAK",
        "outputId": "5c5c03ad-1201-4d78-e835-c3fae849ffc3"
      },
      "execution_count": 9,
      "outputs": [
        {
          "output_type": "stream",
          "name": "stdout",
          "text": [
            "P\n",
            "a\n",
            "Pj\n",
            "Puja\n",
            "ajuP\n",
            " IAM PUJITHA\n",
            " iam pujitha\n",
            " iAM pUJITHA\n",
            "Iam Pujitha\n",
            "helloThis is me\n",
            "hellohello\n"
          ]
        }
      ]
    },
    {
      "cell_type": "code",
      "source": [
        "dir(str)"
      ],
      "metadata": {
        "colab": {
          "base_uri": "https://localhost:8080/"
        },
        "id": "_YXuYXegHqx3",
        "outputId": "a66e3906-df58-407e-83b1-ba34732d13f3"
      },
      "execution_count": 10,
      "outputs": [
        {
          "output_type": "execute_result",
          "data": {
            "text/plain": [
              "['__add__',\n",
              " '__class__',\n",
              " '__contains__',\n",
              " '__delattr__',\n",
              " '__dir__',\n",
              " '__doc__',\n",
              " '__eq__',\n",
              " '__format__',\n",
              " '__ge__',\n",
              " '__getattribute__',\n",
              " '__getitem__',\n",
              " '__getnewargs__',\n",
              " '__gt__',\n",
              " '__hash__',\n",
              " '__init__',\n",
              " '__init_subclass__',\n",
              " '__iter__',\n",
              " '__le__',\n",
              " '__len__',\n",
              " '__lt__',\n",
              " '__mod__',\n",
              " '__mul__',\n",
              " '__ne__',\n",
              " '__new__',\n",
              " '__reduce__',\n",
              " '__reduce_ex__',\n",
              " '__repr__',\n",
              " '__rmod__',\n",
              " '__rmul__',\n",
              " '__setattr__',\n",
              " '__sizeof__',\n",
              " '__str__',\n",
              " '__subclasshook__',\n",
              " 'capitalize',\n",
              " 'casefold',\n",
              " 'center',\n",
              " 'count',\n",
              " 'encode',\n",
              " 'endswith',\n",
              " 'expandtabs',\n",
              " 'find',\n",
              " 'format',\n",
              " 'format_map',\n",
              " 'index',\n",
              " 'isalnum',\n",
              " 'isalpha',\n",
              " 'isascii',\n",
              " 'isdecimal',\n",
              " 'isdigit',\n",
              " 'isidentifier',\n",
              " 'islower',\n",
              " 'isnumeric',\n",
              " 'isprintable',\n",
              " 'isspace',\n",
              " 'istitle',\n",
              " 'isupper',\n",
              " 'join',\n",
              " 'ljust',\n",
              " 'lower',\n",
              " 'lstrip',\n",
              " 'maketrans',\n",
              " 'partition',\n",
              " 'replace',\n",
              " 'rfind',\n",
              " 'rindex',\n",
              " 'rjust',\n",
              " 'rpartition',\n",
              " 'rsplit',\n",
              " 'rstrip',\n",
              " 'split',\n",
              " 'splitlines',\n",
              " 'startswith',\n",
              " 'strip',\n",
              " 'swapcase',\n",
              " 'title',\n",
              " 'translate',\n",
              " 'upper',\n",
              " 'zfill']"
            ]
          },
          "metadata": {},
          "execution_count": 10
        }
      ]
    },
    {
      "cell_type": "code",
      "source": [
        "#string formats\n",
        "\n",
        "name=\"Puja\"\n",
        "Language=\"Python\"\n",
        "year=2023\n",
        " \n",
        "print(name,\"is studying\",Language,\"Programming language in\",year)\n",
        "\n",
        "#format\n",
        "print(\"{} is studying {} programming language in {}\".format(name,Language,year)) #like of giving indexing\n",
        "print(\"{2} is studying {0} programming language in {1}\".format(name,Language,year))\n",
        "\n",
        "#placeholder\n",
        "print(\"%s is studying %s in %d\"%(name,Language,year))\n",
        "\n",
        "#rawstring\n",
        "print(f\"{name} is studying {Language} in {year}\")"
      ],
      "metadata": {
        "colab": {
          "base_uri": "https://localhost:8080/"
        },
        "id": "YiKy7DA3Hx7b",
        "outputId": "efdff153-04a8-4bd6-bbce-87f5dddb7747"
      },
      "execution_count": 11,
      "outputs": [
        {
          "output_type": "stream",
          "name": "stdout",
          "text": [
            "Puja is studying Python Programming language in 2023\n",
            "Puja is studying Python programming language in 2023\n",
            "2023 is studying Puja programming language in Python\n",
            "Puja is studying Python in 2023\n",
            "Puja is studying Python in 2023\n"
          ]
        }
      ]
    },
    {
      "cell_type": "code",
      "source": [
        "#List\n",
        "my_l=[1,2,3,4]\n",
        "my_l1=[1,\"hii\",\"4.0\"]\n",
        "my_l2=[\"apple\",\"mango\",\"citrus\"]\n",
        "\n",
        "#indexing\n",
        "print(my_l[2])\n",
        "print(my_l[-1])\n",
        "\n",
        "#slicing\n",
        "print(my_l[:3])\n",
        "\n",
        "#nested list\n",
        "n_l=[\"dragonfruit\",my_l,my_l[1]]\n",
        "print(n_l[0][0:6])\n",
        "print(my_l1[1][2])\n",
        "\n",
        "#list method\n",
        "my_l.append(5)\n",
        "print(my_l)\n",
        "\n",
        "l1=[6,5,63,78,3,5,9,2,61]\n",
        "print(l1.count(5))\n",
        "print(len(l1))\n",
        "print(l1[::-1])\n",
        "\n",
        "l1.reverse()\n",
        "print(l1)\n",
        "\n",
        "l1.sort()\n",
        "print(l1)\n",
        "\n",
        "#print(n_l[2][0:3])"
      ],
      "metadata": {
        "colab": {
          "base_uri": "https://localhost:8080/"
        },
        "id": "5CEULSv2H4lV",
        "outputId": "af04fba5-ab4f-420e-965f-63e61b34adda"
      },
      "execution_count": 12,
      "outputs": [
        {
          "output_type": "stream",
          "name": "stdout",
          "text": [
            "3\n",
            "4\n",
            "[1, 2, 3]\n",
            "dragon\n",
            "i\n",
            "[1, 2, 3, 4, 5]\n",
            "2\n",
            "9\n",
            "[61, 2, 9, 5, 3, 78, 63, 5, 6]\n",
            "[61, 2, 9, 5, 3, 78, 63, 5, 6]\n",
            "[2, 3, 5, 5, 6, 9, 61, 63, 78]\n"
          ]
        }
      ]
    },
    {
      "cell_type": "code",
      "source": [
        " l2=[1,2,3]\n",
        " l3=l2\n",
        " l4=[1,2,3]\n",
        " print(l2==l3)\n",
        " print(l3==l4)\n",
        "\n",
        " print(l2 is l3)\n",
        " print(l3 is l4)"
      ],
      "metadata": {
        "colab": {
          "base_uri": "https://localhost:8080/"
        },
        "id": "XKhJUi3QH7lR",
        "outputId": "3c19bf58-1ba0-455b-8b0b-537cc06f6eca"
      },
      "execution_count": 14,
      "outputs": [
        {
          "output_type": "stream",
          "name": "stdout",
          "text": [
            "True\n",
            "True\n",
            "True\n",
            "False\n"
          ]
        }
      ]
    }
  ]
}