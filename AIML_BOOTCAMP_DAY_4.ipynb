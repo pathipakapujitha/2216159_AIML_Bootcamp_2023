{
  "nbformat": 4,
  "nbformat_minor": 0,
  "metadata": {
    "colab": {
      "provenance": [],
      "authorship_tag": "ABX9TyNxzpiuyMY7PN53oTxtoNG1",
      "include_colab_link": true
    },
    "kernelspec": {
      "name": "python3",
      "display_name": "Python 3"
    },
    "language_info": {
      "name": "python"
    }
  },
  "cells": [
    {
      "cell_type": "markdown",
      "metadata": {
        "id": "view-in-github",
        "colab_type": "text"
      },
      "source": [
        "<a href=\"https://colab.research.google.com/github/pathipakapujitha/2216159_AIML_Bootcamp_2023/blob/main/AIML_BOOTCAMP_DAY_4.ipynb\" target=\"_parent\"><img src=\"https://colab.research.google.com/assets/colab-badge.svg\" alt=\"Open In Colab\"/></a>"
      ]
    },
    {
      "cell_type": "code",
      "execution_count": 1,
      "metadata": {
        "colab": {
          "base_uri": "https://localhost:8080/"
        },
        "id": "MVx95YE8JzbS",
        "outputId": "8d3d9d28-238d-4b53-df90-eb4732387176"
      },
      "outputs": [
        {
          "output_type": "stream",
          "name": "stdout",
          "text": [
            "True\n",
            "450\n",
            "false\n",
            "enter age:5\n",
            "not eligible to vote\n"
          ]
        }
      ],
      "source": [
        "#decision making\n",
        "\n",
        "#if statement\n",
        "a=450\n",
        "if a>0:\n",
        "  print(\"True\")\n",
        "  print(a)\n",
        "\n",
        "#if- else statement\n",
        "b=-3\n",
        "if b<0:\n",
        "  print(\"false\")\n",
        "else:\n",
        "  print(\"true\")\n",
        "\n",
        "#nested if\n",
        "a=int(input(\"enter age:\"))\n",
        "if(a>0):\n",
        "  if(a>18):\n",
        "    print(\"eigible to vote\")\n",
        "  elif(a<18):\n",
        "    print(\"not eligible to vote\")\n",
        "else:\n",
        "  print(\"enter valid number\")"
      ]
    },
    {
      "cell_type": "code",
      "source": [
        "#python loops\n",
        "n=[1,2,3,4,5,5]\n",
        "for i in range(1,7): #(1,n-1)\n",
        "  print(i)\n",
        "s=0\n",
        "for j in n:\n",
        "  s=s+j\n",
        "print(\"sum:\",s)\n",
        "\n",
        "for i in range(1,6,3):\n",
        "  print(i)"
      ],
      "metadata": {
        "colab": {
          "base_uri": "https://localhost:8080/"
        },
        "id": "GVXKIqd6KEKw",
        "outputId": "8a136621-09c2-47cf-9651-f5f1ad15e541"
      },
      "execution_count": 2,
      "outputs": [
        {
          "output_type": "stream",
          "name": "stdout",
          "text": [
            "1\n",
            "2\n",
            "3\n",
            "4\n",
            "5\n",
            "6\n",
            "sum: 20\n",
            "1\n",
            "4\n"
          ]
        }
      ]
    },
    {
      "cell_type": "code",
      "source": [
        "#while loop -used for large data\n",
        "c=1\n",
        "while(c<7):\n",
        "  print(c)\n",
        "  c=c+1"
      ],
      "metadata": {
        "colab": {
          "base_uri": "https://localhost:8080/"
        },
        "id": "EehT7Q9EKH2k",
        "outputId": "348d236f-773d-47d4-9637-f116de39d4d7"
      },
      "execution_count": 3,
      "outputs": [
        {
          "output_type": "stream",
          "name": "stdout",
          "text": [
            "1\n",
            "2\n",
            "3\n",
            "4\n",
            "5\n",
            "6\n"
          ]
        }
      ]
    },
    {
      "cell_type": "code",
      "source": [
        "#nested loop\n",
        "\n",
        "#nested for\n",
        "x=[[3,4,5],[4,5,6],[7,8,6]]\n",
        "y=[[4,8,12],[1,1,0],[5,3,0]]\n",
        "res=[[0,0,0],[0,0,0],[0,0,0]]\n",
        "\n",
        "for i in range(len(x)):\n",
        "  for j in range(len(x[0])):\n",
        "    res[i][j]=x[i][j]+y[i][j]\n",
        "for r in res:\n",
        "  print(r)"
      ],
      "metadata": {
        "colab": {
          "base_uri": "https://localhost:8080/"
        },
        "id": "WkjBPoQWKKM9",
        "outputId": "93d0928b-d1a0-4841-e541-f99ebd515051"
      },
      "execution_count": 4,
      "outputs": [
        {
          "output_type": "stream",
          "name": "stdout",
          "text": [
            "[7, 12, 17]\n",
            "[5, 6, 6]\n",
            "[12, 11, 6]\n"
          ]
        }
      ]
    },
    {
      "cell_type": "code",
      "source": [
        "#nested while loop\n",
        "n=int(input(\"enter until which table you need\"))\n",
        "i=1\n",
        "while(i<=n):\n",
        "  print(f\"table {i}\")\n",
        "  j=1\n",
        "  while(j<=10):\n",
        "    print(f\"{i}*{j}={i*j}\")\n",
        "    j=j+1\n",
        "  print(\"___________________\")\n",
        "  i=i+1"
      ],
      "metadata": {
        "colab": {
          "base_uri": "https://localhost:8080/"
        },
        "id": "dlD-YFwOKQaH",
        "outputId": "0b7584af-c83d-4845-a864-8482f0dfeace"
      },
      "execution_count": 5,
      "outputs": [
        {
          "output_type": "stream",
          "name": "stdout",
          "text": [
            "enter until which table you need3\n",
            "table 1\n",
            "1*1=1\n",
            "1*2=2\n",
            "1*3=3\n",
            "1*4=4\n",
            "1*5=5\n",
            "1*6=6\n",
            "1*7=7\n",
            "1*8=8\n",
            "1*9=9\n",
            "1*10=10\n",
            "___________________\n",
            "table 2\n",
            "2*1=2\n",
            "2*2=4\n",
            "2*3=6\n",
            "2*4=8\n",
            "2*5=10\n",
            "2*6=12\n",
            "2*7=14\n",
            "2*8=16\n",
            "2*9=18\n",
            "2*10=20\n",
            "___________________\n",
            "table 3\n",
            "3*1=3\n",
            "3*2=6\n",
            "3*3=9\n",
            "3*4=12\n",
            "3*5=15\n",
            "3*6=18\n",
            "3*7=21\n",
            "3*8=24\n",
            "3*9=27\n",
            "3*10=30\n",
            "___________________\n"
          ]
        }
      ]
    },
    {
      "cell_type": "code",
      "source": [
        "#control statements\n",
        "\n",
        "#break\n",
        "for q in \"python\":\n",
        "  if(q=='h'):\n",
        "    break\n",
        "  print(\"current letter\",q )\n",
        "print(\"______________________________\")\n",
        "#continue\n",
        "for q in \"python\":\n",
        "  if(q=='h'):\n",
        "    continue\n",
        "  print(\"current letter\",q)\n",
        "print(\"______________________________\")\n",
        "#pass\n",
        "for q in \"python\":\n",
        "  if(q=='h'):\n",
        "    pass\n",
        "    print(\"this ia pass block\")\n",
        "  print(\"current letter\",q)\n"
      ],
      "metadata": {
        "colab": {
          "base_uri": "https://localhost:8080/"
        },
        "id": "h4OmsJxTKW6Z",
        "outputId": "ad96b506-82bd-4d0e-b219-446fbc16fc31"
      },
      "execution_count": 6,
      "outputs": [
        {
          "output_type": "stream",
          "name": "stdout",
          "text": [
            "current letter p\n",
            "current letter y\n",
            "current letter t\n",
            "______________________________\n",
            "current letter p\n",
            "current letter y\n",
            "current letter t\n",
            "current letter o\n",
            "current letter n\n",
            "______________________________\n",
            "current letter p\n",
            "current letter y\n",
            "current letter t\n",
            "this ia pass block\n",
            "current letter h\n",
            "current letter o\n",
            "current letter n\n"
          ]
        }
      ]
    },
    {
      "cell_type": "code",
      "source": [
        "#functions\n",
        "def greet(name):\n",
        "  '''this function greets a person'''\n",
        "  print(\"HELLO, \\t\"+name+ \"\\t good morning\")\n",
        "greet(\"puja\")"
      ],
      "metadata": {
        "colab": {
          "base_uri": "https://localhost:8080/"
        },
        "id": "eHydtJQGKbFe",
        "outputId": "cc4d1b9a-3857-483f-9c4f-2876183b0fd6"
      },
      "execution_count": 7,
      "outputs": [
        {
          "output_type": "stream",
          "name": "stdout",
          "text": [
            "HELLO, \tpuja\t good morning\n"
          ]
        }
      ]
    },
    {
      "cell_type": "code",
      "source": [
        "#default\n",
        "def A(a,b=1,c=2):\n",
        "  return a+b+c\n",
        "print(A(3))\n",
        "print(A(4,4,4))"
      ],
      "metadata": {
        "colab": {
          "base_uri": "https://localhost:8080/"
        },
        "id": "2Z6yeC3CKf3I",
        "outputId": "8eafb442-b1d5-4f27-cf88-f2b056a893cf"
      },
      "execution_count": 8,
      "outputs": [
        {
          "output_type": "stream",
          "name": "stdout",
          "text": [
            "6\n",
            "12\n"
          ]
        }
      ]
    },
    {
      "cell_type": "code",
      "source": [
        "#keyword\n",
        "def A(a,b=1,c=2):\n",
        "    return a+b+c\n",
        "print(A(a=2,b=3))\n",
        "print(A(c=3,a=1,b=2))"
      ],
      "metadata": {
        "colab": {
          "base_uri": "https://localhost:8080/"
        },
        "id": "-MXcxIOFKizr",
        "outputId": "028b2eb7-2753-46a7-e5e9-03e8a133af9a"
      },
      "execution_count": 9,
      "outputs": [
        {
          "output_type": "stream",
          "name": "stdout",
          "text": [
            "7\n",
            "6\n"
          ]
        }
      ]
    },
    {
      "cell_type": "code",
      "source": [
        "#positional\n",
        "def A(a,b,c):\n",
        "  return a+b+c\n",
        "print(A(10,10,20))"
      ],
      "metadata": {
        "colab": {
          "base_uri": "https://localhost:8080/"
        },
        "id": "1VfmUtrnKmIi",
        "outputId": "b0a102b6-8f58-421a-9138-4d63e0207911"
      },
      "execution_count": 10,
      "outputs": [
        {
          "output_type": "stream",
          "name": "stdout",
          "text": [
            "40\n"
          ]
        }
      ]
    },
    {
      "cell_type": "code",
      "source": [
        "#arbitrary positional\n",
        "def add_n(*n):\n",
        "  print(sum(n))\n",
        "add_n(1,2,3,4,5)"
      ],
      "metadata": {
        "colab": {
          "base_uri": "https://localhost:8080/"
        },
        "id": "EtWXFjpCKo0e",
        "outputId": "d0426ea8-2b23-4704-98de-9d13bcb62420"
      },
      "execution_count": 11,
      "outputs": [
        {
          "output_type": "stream",
          "name": "stdout",
          "text": [
            "15\n"
          ]
        }
      ]
    },
    {
      "cell_type": "code",
      "source": [
        "#arbitrary keywords\n",
        "def key_args(**kwargs):\n",
        "  return kwargs\n",
        "m=key_args(Apples=30,Bananas=40,cherries=50)\n",
        "print(m['Apples'])\n",
        "print(m)"
      ],
      "metadata": {
        "colab": {
          "base_uri": "https://localhost:8080/"
        },
        "id": "Wy4MiDW8KrlX",
        "outputId": "ea096cde-0639-47cc-c23a-d54cb0c182cf"
      },
      "execution_count": 12,
      "outputs": [
        {
          "output_type": "stream",
          "name": "stdout",
          "text": [
            "30\n",
            "{'Apples': 30, 'Bananas': 40, 'cherries': 50}\n"
          ]
        }
      ]
    },
    {
      "cell_type": "code",
      "source": [
        "#higher order functions\n",
        "def shout(text):\n",
        "  return text.upper()\n",
        "def whisper(text):\n",
        "  return text.lower()\n",
        "def explain(func):\n",
        "  greet=func(\"hi ,iam HiGHer OrdwR fUnction\")\n",
        "  print(greet)\n",
        "\n",
        "explain(shout)\n",
        "explain(whisper)"
      ],
      "metadata": {
        "colab": {
          "base_uri": "https://localhost:8080/"
        },
        "id": "dBaKujksKuvu",
        "outputId": "ba0f015c-f21f-4a11-fa80-9c9f3cc26d1f"
      },
      "execution_count": 13,
      "outputs": [
        {
          "output_type": "stream",
          "name": "stdout",
          "text": [
            "HI ,IAM HIGHER ORDWR FUNCTION\n",
            "hi ,iam higher ordwr function\n"
          ]
        }
      ]
    }
  ]
}