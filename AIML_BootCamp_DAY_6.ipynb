{
  "nbformat": 4,
  "nbformat_minor": 0,
  "metadata": {
    "colab": {
      "provenance": [],
      "authorship_tag": "ABX9TyPOH9gtXmlGGTSlyJ+L2Pzf",
      "include_colab_link": true
    },
    "kernelspec": {
      "name": "python3",
      "display_name": "Python 3"
    },
    "language_info": {
      "name": "python"
    }
  },
  "cells": [
    {
      "cell_type": "markdown",
      "metadata": {
        "id": "view-in-github",
        "colab_type": "text"
      },
      "source": [
        "<a href=\"https://colab.research.google.com/github/pathipakapujitha/2216159_AIML_Bootcamp_2023/blob/main/AIML_BootCamp_DAY_6.ipynb\" target=\"_parent\"><img src=\"https://colab.research.google.com/assets/colab-badge.svg\" alt=\"Open In Colab\"/></a>"
      ]
    },
    {
      "cell_type": "code",
      "source": [
        "#exceptional handling\n",
        "#name error\n",
        "print(d)"
      ],
      "metadata": {
        "id": "DXp-EvFRpB8a"
      },
      "execution_count": null,
      "outputs": []
    },
    {
      "cell_type": "code",
      "source": [
        "#value error\n",
        "k=\"25 xyz\"\n",
        "print(int(k))"
      ],
      "metadata": {
        "id": "nHmJypMEpGH2"
      },
      "execution_count": null,
      "outputs": []
    },
    {
      "cell_type": "code",
      "source": [
        "#zero division error\n",
        "d=10/0\n",
        "print(d)"
      ],
      "metadata": {
        "id": "di_yT7z2pJBS"
      },
      "execution_count": null,
      "outputs": []
    },
    {
      "cell_type": "code",
      "source": [
        "#key error\n",
        "myd={1:\"apple\",2:\"banana\"}\n",
        "myd[3]"
      ],
      "metadata": {
        "id": "MPKkCnlHpMfT"
      },
      "execution_count": null,
      "outputs": []
    },
    {
      "cell_type": "code",
      "source": [
        "#index error\n",
        "li=[1,2,3,4]\n",
        "print(li(5))"
      ],
      "metadata": {
        "id": "FLH1DfmdpVzI"
      },
      "execution_count": null,
      "outputs": []
    },
    {
      "cell_type": "code",
      "source": [
        "#type error\n",
        "c=10\n",
        "d=\"10\"\n",
        "res=c/d"
      ],
      "metadata": {
        "id": "WoKCVdd3pW1T"
      },
      "execution_count": null,
      "outputs": []
    },
    {
      "cell_type": "code",
      "source": [
        "#NameError exceptional handling\n",
        "try:\n",
        "  print(x)\n",
        "except NameError as ne:\n",
        "  print(\"testcase1:\",ne)\n",
        "print(\"executed\")"
      ],
      "metadata": {
        "colab": {
          "base_uri": "https://localhost:8080/"
        },
        "id": "VQ_NlrtupaE_",
        "outputId": "547c4950-e9d2-47fe-8bf6-ab4c3a033a6c"
      },
      "execution_count": 3,
      "outputs": [
        {
          "output_type": "stream",
          "name": "stdout",
          "text": [
            "testcase1: name 'x' is not defined\n",
            "executed\n"
          ]
        }
      ]
    },
    {
      "cell_type": "code",
      "source": [
        "#IndexError exceptional handling\n",
        "li=[1,2,3,4]\n",
        "try:\n",
        "  print(li[5])\n",
        "except IndexError as ie:\n",
        "  print(\"testcase1:\",ie)\n",
        "print(\"executed\")"
      ],
      "metadata": {
        "colab": {
          "base_uri": "https://localhost:8080/"
        },
        "id": "EU0cRe9Gpfg7",
        "outputId": "5408e630-d5eb-407c-ea1f-72e0a5219456"
      },
      "execution_count": 4,
      "outputs": [
        {
          "output_type": "stream",
          "name": "stdout",
          "text": [
            "testcase1: list index out of range\n",
            "executed\n"
          ]
        }
      ]
    },
    {
      "cell_type": "code",
      "source": [
        "#TypeError exceptional handling\n",
        "a=10\n",
        "b=\"10\"\n",
        " \n",
        "try:\n",
        "  print(a/b)\n",
        "except TypeError as te:\n",
        "  print(\"testcase1:\",te)\n",
        "print(\"executed\")"
      ],
      "metadata": {
        "colab": {
          "base_uri": "https://localhost:8080/"
        },
        "id": "m_yeR65mpk4g",
        "outputId": "9778bfc3-d072-423f-cb69-f5d3e374317e"
      },
      "execution_count": 5,
      "outputs": [
        {
          "output_type": "stream",
          "name": "stdout",
          "text": [
            "testcase1: unsupported operand type(s) for /: 'int' and 'str'\n",
            "executed\n"
          ]
        }
      ]
    },
    {
      "cell_type": "code",
      "source": [
        "#ZeroDivisionError exceptional handling\n",
        "try:\n",
        "  print(10/0)\n",
        "except ZeroDivisionError as ze:\n",
        "  print(\"testcase1:\",ze)\n",
        "print(\"executed\")"
      ],
      "metadata": {
        "colab": {
          "base_uri": "https://localhost:8080/"
        },
        "id": "NMOqrj4RptLM",
        "outputId": "2641c4b8-d86b-4a8f-9133-43a23ed453f5"
      },
      "execution_count": 6,
      "outputs": [
        {
          "output_type": "stream",
          "name": "stdout",
          "text": [
            "testcase1: division by zero\n",
            "executed\n"
          ]
        }
      ]
    },
    {
      "cell_type": "code",
      "source": [
        "#key error exceptional handling\n",
        "myd={1:\"apple\",2:\"banana\"}\n",
        " \n",
        "try:\n",
        "  print(myd[3])\n",
        "except KeyError as ke:\n",
        "  print(\"testcase1:\",ke)\n",
        "print(\"executed\")"
      ],
      "metadata": {
        "colab": {
          "base_uri": "https://localhost:8080/"
        },
        "id": "B-f96geTp0F1",
        "outputId": "dce35856-a2f8-4746-9455-12c259cb4f07"
      },
      "execution_count": 7,
      "outputs": [
        {
          "output_type": "stream",
          "name": "stdout",
          "text": [
            "testcase1: 3\n",
            "executed\n"
          ]
        }
      ]
    },
    {
      "cell_type": "code",
      "source": [
        "#value error exceptional handling\n",
        "a=\"25 xyz\"\n",
        " \n",
        "try:\n",
        "  print(int(a))\n",
        "except ValueError as ve:\n",
        "  print(\"testcase1:\",ve)\n",
        "print(\"executed\")\n"
      ],
      "metadata": {
        "colab": {
          "base_uri": "https://localhost:8080/"
        },
        "id": "0DE2X73kp5DS",
        "outputId": "4caa1d0b-3990-4683-e55d-34e6500025a7"
      },
      "execution_count": 8,
      "outputs": [
        {
          "output_type": "stream",
          "name": "stdout",
          "text": [
            "testcase1: invalid literal for int() with base 10: '25 xyz'\n",
            "executed\n"
          ]
        }
      ]
    },
    {
      "cell_type": "code",
      "source": [
        "class INVALIDSTUD_ID(Exception):\n",
        "  def __str__(self):\n",
        "    return \"error raised\"\n",
        "id=input(\"enter id:\")\n",
        "try:\n",
        "  if(id[:4]!='2003'):\n",
        "    raise INVALIDSTUD_ID\n",
        "  else:\n",
        "    print(\"Verified\")\n",
        "except INVALIDSTUD_ID as i:\n",
        "  print(i)\n",
        "print(\"details checked\")"
      ],
      "metadata": {
        "colab": {
          "base_uri": "https://localhost:8080/"
        },
        "id": "ZVxbKtwYp_V8",
        "outputId": "d880dd1d-8c26-4969-b489-6064ed890afc"
      },
      "execution_count": 9,
      "outputs": [
        {
          "output_type": "stream",
          "name": "stdout",
          "text": [
            "enter id:2003A51042\n",
            "Verified\n",
            "details checked\n"
          ]
        }
      ]
    },
    {
      "cell_type": "code",
      "source": [
        "#age exception\n",
        "class INVALIDAGE(Exception):\n",
        "  def __str__(self):\n",
        "    return \"invalid age\"\n",
        "age=int(input(\"enter age:\"))\n",
        "try:\n",
        "  if age<18:\n",
        "    raise INVALIDAGE\n",
        "  else:\n",
        "    print(\"valid age\")\n",
        "except INVALIDAGE as i:\n",
        "  print(i)\n",
        "print(\"done\")"
      ],
      "metadata": {
        "colab": {
          "base_uri": "https://localhost:8080/"
        },
        "id": "5nZS9tX_qOKN",
        "outputId": "2d509c7f-379b-4f10-855c-39ebdff05484"
      },
      "execution_count": 10,
      "outputs": [
        {
          "output_type": "stream",
          "name": "stdout",
          "text": [
            "enter age:15\n",
            "invalid age\n",
            "done\n"
          ]
        }
      ]
    },
    {
      "cell_type": "code",
      "source": [
        "#modules\n",
        "#os module\n",
        "import os\n",
        "#os.mkdir(\"hi\")\n",
        "#os.chdir(\"hi\")\n",
        "os.getcwd()#current working dir\n",
        "os.listdir()#list of dir\n",
        "os.rmdir(\"/content/hi\")#remove dir \"hi\" through setting path"
      ],
      "metadata": {
        "id": "mCUldzbzqdk0"
      },
      "execution_count": null,
      "outputs": []
    },
    {
      "cell_type": "code",
      "source": [
        "#math \n",
        "import math as m\n",
        "print(m.pi)\n",
        "print(m.e)\n",
        "print(m.sqrt(4))\n",
        "print(m.factorial(5))\n",
        "print(m.pow(5,5))\n",
        "print(m.floor(-3.7))\n",
        "print(m.tan(5))\n",
        "print(m.log(3))"
      ],
      "metadata": {
        "colab": {
          "base_uri": "https://localhost:8080/"
        },
        "id": "hIax9b_jqfEN",
        "outputId": "6c5fb80c-e5ba-4c37-cc21-7f0bc5bc5a68"
      },
      "execution_count": 12,
      "outputs": [
        {
          "output_type": "stream",
          "name": "stdout",
          "text": [
            "3.141592653589793\n",
            "2.718281828459045\n",
            "2.0\n",
            "120\n",
            "3125.0\n",
            "-4\n",
            "-3.380515006246586\n",
            "1.0986122886681098\n"
          ]
        }
      ]
    },
    {
      "cell_type": "code",
      "source": [
        "#sys module\n",
        "import sys\n",
        "print(sys.path)\n",
        "print(sys.version)\n",
        "print(sys.maxsize)\n",
        "print(sys.copyright)"
      ],
      "metadata": {
        "colab": {
          "base_uri": "https://localhost:8080/"
        },
        "id": "AfJrHI7FqkCD",
        "outputId": "b6b3f650-eac7-4723-cc62-436f849d3e96"
      },
      "execution_count": 13,
      "outputs": [
        {
          "output_type": "stream",
          "name": "stdout",
          "text": [
            "['/content', '/env/python', '/usr/lib/python38.zip', '/usr/lib/python3.8', '/usr/lib/python3.8/lib-dynload', '', '/usr/local/lib/python3.8/dist-packages', '/usr/lib/python3/dist-packages', '/usr/local/lib/python3.8/dist-packages/IPython/extensions', '/root/.ipython']\n",
            "3.8.10 (default, Nov 14 2022, 12:59:47) \n",
            "[GCC 9.4.0]\n",
            "9223372036854775807\n",
            "Copyright (c) 2001-2021 Python Software Foundation.\n",
            "All Rights Reserved.\n",
            "\n",
            "Copyright (c) 2000 BeOpen.com.\n",
            "All Rights Reserved.\n",
            "\n",
            "Copyright (c) 1995-2001 Corporation for National Research Initiatives.\n",
            "All Rights Reserved.\n",
            "\n",
            "Copyright (c) 1991-1995 Stichting Mathematisch Centrum, Amsterdam.\n",
            "All Rights Reserved.\n"
          ]
        }
      ]
    },
    {
      "cell_type": "code",
      "source": [
        "#statictics module\n",
        "import statistics as s\n",
        "print(s.mean([4,6,7,2,35]))#give the values in the form of list\n",
        "print(s.median([2,3,5,4,6]))\n",
        "print(s.mode([34,6,8,8,8,34,4,54]))"
      ],
      "metadata": {
        "colab": {
          "base_uri": "https://localhost:8080/"
        },
        "id": "mG97wpVKqo5y",
        "outputId": "9b2e410d-03c9-4fb9-9997-ff9f95b67201"
      },
      "execution_count": 14,
      "outputs": [
        {
          "output_type": "stream",
          "name": "stdout",
          "text": [
            "10.8\n",
            "4\n",
            "8\n"
          ]
        }
      ]
    },
    {
      "cell_type": "code",
      "source": [
        "#random module\n",
        "import random as r\n",
        "print(r.randrange(1,50))\n",
        "print(r.randint(1,100))\n",
        "print(r.random())"
      ],
      "metadata": {
        "colab": {
          "base_uri": "https://localhost:8080/"
        },
        "id": "sz6jOtIJquTJ",
        "outputId": "d2b3c972-e84e-41e6-dd9e-fb9de6ebe4d7"
      },
      "execution_count": 15,
      "outputs": [
        {
          "output_type": "stream",
          "name": "stdout",
          "text": [
            "41\n",
            "56\n",
            "0.019550336569086224\n"
          ]
        }
      ]
    },
    {
      "cell_type": "code",
      "source": [
        "import random \n",
        "guess_no=int(input(\"predict a number\"))\n",
        "G=random.randint(1,5)\n",
        "if G==guess_no:\n",
        "  print(\"you won\")\n",
        "else:\n",
        "  print(\"you lose\")"
      ],
      "metadata": {
        "colab": {
          "base_uri": "https://localhost:8080/"
        },
        "id": "9uMqSY2iq6Mo",
        "outputId": "b0fa87c5-8c1b-4a50-cd75-c6243b9a397b"
      },
      "execution_count": 17,
      "outputs": [
        {
          "output_type": "stream",
          "name": "stdout",
          "text": [
            "predict a number5\n",
            "you lose\n"
          ]
        }
      ]
    },
    {
      "cell_type": "code",
      "source": [
        "import re\n",
        " def check(email):\n",
        "    if(re.fullmatch(regex, email)):\n",
        "        print(\"Valid Email\")\n",
        " \n",
        "    else:\n",
        "        print(\"Invalid Email\")\n",
        "\n",
        "if __name__ == '__main__':\n",
        " \n",
        "    email=input(\"enter email id:\")\n",
        "    check(email)"
      ],
      "metadata": {
        "id": "2-1IOFlSsIoS"
      },
      "execution_count": null,
      "outputs": []
    },
    {
      "cell_type": "code",
      "source": [
        "#pickling-we do it for serialization and deserialization\n",
        "#conversion of bytes\n",
        "import pickle\n",
        "my_l1=[]"
      ],
      "metadata": {
        "id": "hV5NHDlIsJo1"
      },
      "execution_count": null,
      "outputs": []
    }
  ]
}