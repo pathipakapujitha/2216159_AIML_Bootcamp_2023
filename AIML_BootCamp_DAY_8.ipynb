{
  "nbformat": 4,
  "nbformat_minor": 0,
  "metadata": {
    "colab": {
      "provenance": [],
      "authorship_tag": "ABX9TyNGBgARa0ncYUe4B1bW+VWm",
      "include_colab_link": true
    },
    "kernelspec": {
      "name": "python3",
      "display_name": "Python 3"
    },
    "language_info": {
      "name": "python"
    }
  },
  "cells": [
    {
      "cell_type": "markdown",
      "metadata": {
        "id": "view-in-github",
        "colab_type": "text"
      },
      "source": [
        "<a href=\"https://colab.research.google.com/github/pathipakapujitha/2216159_AIML_Bootcamp_2023/blob/main/AIML_BootCamp_DAY_8.ipynb\" target=\"_parent\"><img src=\"https://colab.research.google.com/assets/colab-badge.svg\" alt=\"Open In Colab\"/></a>"
      ]
    },
    {
      "cell_type": "code",
      "execution_count": null,
      "metadata": {
        "id": "CGCEYUJcsxoU"
      },
      "outputs": [],
      "source": [
        "#file object=open(\"file name\",\"mode\")\n",
        "#x=create\n",
        "#r=read\n",
        "#w=write\n",
        "#r+=read and write\n",
        "#w+=write and read\n",
        "#rb=\n",
        "#wb=\n",
        "#rb+\n",
        "#wb+\n",
        "#a=appends\n",
        "#a+=append and read\n",
        "#ab=\n",
        "#ab+"
      ]
    },
    {
      "cell_type": "code",
      "source": [
        "f=open(\"sample.txt\",\"x\")"
      ],
      "metadata": {
        "id": "yFQx-FVIs5Lr"
      },
      "execution_count": 3,
      "outputs": []
    },
    {
      "cell_type": "code",
      "source": [
        "f=open(\"sample.txt\",\"w\")\n",
        "f.write(\"Welcome to Python Programming\")\n",
        "f.close()"
      ],
      "metadata": {
        "id": "WVfhd7Bss7vo"
      },
      "execution_count": 4,
      "outputs": []
    },
    {
      "cell_type": "code",
      "source": [
        "f=open(\"sam.txt\",\"x\")"
      ],
      "metadata": {
        "id": "_tCD1Ph-s-TD"
      },
      "execution_count": 5,
      "outputs": []
    },
    {
      "cell_type": "code",
      "source": [
        "import os\n",
        "os.remove(\"sam.txt\")"
      ],
      "metadata": {
        "id": "FXQYMFDBtA7Y"
      },
      "execution_count": 6,
      "outputs": []
    },
    {
      "cell_type": "code",
      "source": [
        "f=open(\"sample.txt\",\"r\")\n",
        "print(f.read(3))#moves the cursor to the particular pos\n",
        "print(f.tell())\n",
        "print(f.seek(2))\n",
        "print(f.seek(0))\n",
        "print(f.readline())\n",
        "print(f.readlines(3))\n",
        "f.close()"
      ],
      "metadata": {
        "colab": {
          "base_uri": "https://localhost:8080/"
        },
        "id": "FrqrZeLQtDdJ",
        "outputId": "cd886bb8-21c9-40b5-f768-1dfb95f92d7e"
      },
      "execution_count": 7,
      "outputs": [
        {
          "output_type": "stream",
          "name": "stdout",
          "text": [
            "Wel\n",
            "3\n",
            "2\n",
            "0\n",
            "Welcome to Python Programming\n",
            "[]\n"
          ]
        }
      ]
    },
    {
      "cell_type": "code",
      "source": [
        "f1=open(\"f1.txt\",\"w\")\n",
        "f1.write(\"Copy paste\")\n",
        "f1.close()"
      ],
      "metadata": {
        "id": "wbbbN8gjtHSl"
      },
      "execution_count": 8,
      "outputs": []
    },
    {
      "cell_type": "code",
      "source": [
        "f1=open(\"f1.txt\",\"r\")\n",
        "temp=f1.read()\n",
        "f1.close()\n",
        "\n",
        "f2=open(\"f2.txt\",\"w\")\n",
        "f2.write(temp)\n",
        "f2.close()"
      ],
      "metadata": {
        "id": "BfkaDeIjtKQI"
      },
      "execution_count": 9,
      "outputs": []
    },
    {
      "cell_type": "code",
      "source": [
        "import os\n",
        "#append\n",
        "f2=open(\"f2.txt\",\"a\")\n",
        "f2.write(\"done from f1 file\")\n",
        "f2=open(\"f2.txt\",\"r\")\n",
        "tem=f2.read()\n",
        "f2.close()\n",
        "\n",
        "#reverse and check if it is a palindrome or not\n",
        "p_f=open(\"p_f.txt\",\"w\")\n",
        "p_f.write(\"hello\")\n",
        "p_f=open(\"p_f.txt\",\"r\")\n",
        "t1=p_f.read()\n",
        "t2=(t1[::-1])\n",
        "print(t2)\n",
        "if(t1==t2):\n",
        "  print(\"palindrome\")\n",
        "else:\n",
        "  print(\"not\")\n",
        "p_f.close()\n",
        "\n",
        "#check if it is a armstrong or not\n",
        "a_f=open(\"a_f.txt\",\"w\")\n",
        "a_f.write(\"153\")\n",
        "a_f=open(\"a_f.txt\",\"r\")\n",
        "t1=a_f.read()\n",
        "s1=0\n",
        "num=153\n",
        "t1=num\n",
        "while t1>0:\n",
        "     n=t1%10\n",
        "     s1+=n**3  \n",
        "     t1=t1//10\n",
        "print(s1)\n",
        "if(num==s1):\n",
        "   print(\"armstrong\")\n",
        "else:\n",
        "  print(\"not\")"
      ],
      "metadata": {
        "colab": {
          "base_uri": "https://localhost:8080/"
        },
        "id": "v4DUQQvjtNx5",
        "outputId": "132f7955-832d-4000-b76f-f6463f2f1c7c"
      },
      "execution_count": 10,
      "outputs": [
        {
          "output_type": "stream",
          "name": "stdout",
          "text": [
            "olleh\n",
            "not\n",
            "153\n",
            "armstrong\n"
          ]
        }
      ]
    },
    {
      "cell_type": "code",
      "source": [
        " #pickling\n",
        " import pickle\n",
        " my_list=['a','b','c','d','e']\n",
        " f3=open(\"datafile.txt\",\"wb\")\n",
        " pickle.dump(my_list,f3)\n",
        " f3.close()\n",
        "\n",
        " #unpickling\n",
        " import pickle\n",
        " pickle_off=open(\"datafile.txt\",\"rb\")\n",
        " e=pickle.load(pickle_off)\n",
        " print(e)\n"
      ],
      "metadata": {
        "colab": {
          "base_uri": "https://localhost:8080/"
        },
        "id": "ASsqHVPmt5Sm",
        "outputId": "c0d7ae40-c960-4b03-8b26-15325d0ddbb5"
      },
      "execution_count": 14,
      "outputs": [
        {
          "output_type": "stream",
          "name": "stdout",
          "text": [
            "['a', 'b', 'c', 'd', 'e']\n"
          ]
        }
      ]
    }
  ]
}