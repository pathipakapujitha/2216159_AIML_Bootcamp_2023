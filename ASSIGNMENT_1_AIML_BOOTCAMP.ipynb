{
  "nbformat": 4,
  "nbformat_minor": 0,
  "metadata": {
    "colab": {
      "provenance": [],
      "authorship_tag": "ABX9TyMYjmv8nxg44t/NTMMstuY3",
      "include_colab_link": true
    },
    "kernelspec": {
      "name": "python3",
      "display_name": "Python 3"
    },
    "language_info": {
      "name": "python"
    }
  },
  "cells": [
    {
      "cell_type": "markdown",
      "metadata": {
        "id": "view-in-github",
        "colab_type": "text"
      },
      "source": [
        "<a href=\"https://colab.research.google.com/github/pathipakapujitha/2216159_AIML_Bootcamp_2023/blob/main/ASSIGNMENT_1_AIML_BOOTCAMP.ipynb\" target=\"_parent\"><img src=\"https://colab.research.google.com/assets/colab-badge.svg\" alt=\"Open In Colab\"/></a>"
      ]
    },
    {
      "cell_type": "code",
      "execution_count": null,
      "metadata": {
        "id": "gFGYtZe9wtkA"
      },
      "outputs": [],
      "source": []
    },
    {
      "cell_type": "markdown",
      "source": [
        "# 1.Implement the methods of String with examples"
      ],
      "metadata": {
        "id": "IwqNglNyxA3G"
      }
    },
    {
      "cell_type": "code",
      "source": [
        "str=\"BootCamp\"\n",
        "print(str)\n",
        "#indexing\n",
        "print(str[0:6])\n",
        "print(str[0])\n",
        "print(str[1:7])\n",
        "#slice operator\n",
        "print(str[:]) # prints complete string-way1\n",
        "print(str[0:]) #-way2\n",
        "print(str[3:])\n",
        "print(str[2:8])\n",
        "print(str[-6:-3])\n",
        "print(str[0:5:3])# alternate elements\n",
        "# reverse a string using slice operator\n",
        "print(str[::-1])\n",
        "# string operations\n",
        "str1=\"SR\"\n",
        "str2=\"UNIVERSITY\"\n",
        "print(str1+str2)\n",
        "str3=str1*2\n",
        "print(str3)\n",
        "# string methods\n",
        "st=\"Python Programming Language\"\n",
        "print(st.upper())#converts to uppercase\n",
        "print(st.lower())#converts to lower case\n",
        "print(st.title())#converts first letter of each word\n",
        "print(st.capitalize())#Converts to capitals\n",
        "print(st.swapcase())#converts upper to lower and vice versa\n",
        "print(st.endswith('e'))#check whether the string ends with letter\n",
        "print(st.startswith('P'))#checks whether the string begins with lettter\n",
        "print(st.count('g'))#counts the no of occurance of element\n",
        "print(st.isalpha())#returns true if all the characters are alphabets\n",
        "print(st.isnumeric())#returns true if all characters are numbers\n",
        "print(st.istitle())#returns true if matches to title()\n",
        "strg=\"       welcome to BootCamp  \"\n",
        "print(strg.strip())\n",
        "print(strg.lstrip())\n",
        "print(strg.rstrip())\n",
        "print(strg.split( ))\n",
        "str4=\"puja@pujitha@pathipaka\"\n",
        "print(str4.split('@'))"
      ],
      "metadata": {
        "colab": {
          "base_uri": "https://localhost:8080/"
        },
        "id": "tv7PbusAxJru",
        "outputId": "4d50d78b-b3b4-48f2-d96b-7dc4dd132d8a"
      },
      "execution_count": null,
      "outputs": [
        {
          "output_type": "stream",
          "name": "stdout",
          "text": [
            "BootCamp\n",
            "BootCa\n",
            "B\n",
            "ootCam\n",
            "BootCamp\n",
            "BootCamp\n",
            "tCamp\n",
            "otCamp\n",
            "otC\n",
            "Bt\n",
            "pmaCtooB\n",
            "SRUNIVERSITY\n",
            "SRSR\n",
            "PYTHON PROGRAMMING LANGUAGE\n",
            "python programming language\n",
            "Python Programming Language\n",
            "Python programming language\n",
            "pYTHON pROGRAMMING lANGUAGE\n",
            "True\n",
            "True\n",
            "4\n",
            "False\n",
            "False\n",
            "True\n",
            "welcome to BootCamp\n",
            "welcome to BootCamp  \n",
            "       welcome to BootCamp\n",
            "['welcome', 'to', 'BootCamp']\n",
            "['puja', 'pujitha', 'pathipaka']\n"
          ]
        }
      ]
    },
    {
      "cell_type": "markdown",
      "source": [
        "# 2.Implement the methods of List with examples."
      ],
      "metadata": {
        "id": "3F05hujr0wP0"
      }
    },
    {
      "cell_type": "code",
      "source": [
        "#LIST\n",
        "list1=[1,3,5,7,11,13,17,19,23,29,31,37,41,43,47]\n",
        "list2=[\"python\",\"java\",\"c\",8,3.0,5+24j]\n",
        "list3=[\"B\",\"O\",\"O\",\"T\",\"C\",\"A\",\"M\",\"P\",\"A\",\"I\",\"M\",\"L\"]\n",
        "#indexing\n",
        "print(list1[3])\n",
        "print(list2[1])\n",
        "print(list3[4])\n",
        "#slicing\n",
        "print(list1[0:6])\n",
        "print(list2[:])\n",
        "print(list2[::-1])\n",
        "print(list3[-1::-8])#prints from last living 5 indexes\n",
        "print(list3[0:6:1])\n",
        "#nested list\n",
        "nlist=[[1,3,5,7,11,13],[\"python\",\"java\",\"c\"],[\"B\",\"O\",\"O\",\"T\",\"C\",\"A\",\"M\",\"P\",\"A\",\"I\",\"M\",\"L\"]]\n",
        "print(nlist[0][1])\n",
        "print(nlist[1][2])\n",
        "print(nlist[2][3])\n",
        "print(nlist[2][1:4])\n",
        "# list Methods\n",
        "list4=[10,20]\n",
        "list4.append(50)\n",
        "print(list4)\n",
        "list4.extend(\"HTML\")\n",
        "print(list4)\n",
        "list4.insert(8,888)\n",
        "print(list4)\n",
        "print(list4.count('T'))\n",
        "list5=list4.copy()\n",
        "print(list5)\n",
        "list4.reverse()\n",
        "print(list4)\n",
        "list6=[\"s\",\"r\",\"u\"]\n",
        "list6.sort()\n",
        "print(list6)\n",
        "list6.remove(\"r\")\n",
        "print(list6)\n",
        "list6.pop()\n",
        "print(list6)\n",
        "list6.clear()\n",
        "print(list6)"
      ],
      "metadata": {
        "colab": {
          "base_uri": "https://localhost:8080/"
        },
        "id": "twbzNrvf0zVQ",
        "outputId": "edd8547d-7e10-4c05-df0c-c4d17b4fdfb9"
      },
      "execution_count": null,
      "outputs": [
        {
          "output_type": "stream",
          "name": "stdout",
          "text": [
            "7\n",
            "java\n",
            "C\n",
            "[1, 3, 5, 7, 11, 13]\n",
            "['python', 'java', 'c', 8, 3.0, (5+24j)]\n",
            "[(5+24j), 3.0, 8, 'c', 'java', 'python']\n",
            "['L', 'T']\n",
            "['B', 'O', 'O', 'T', 'C', 'A']\n",
            "3\n",
            "c\n",
            "T\n",
            "['O', 'O', 'T']\n",
            "[10, 20, 50]\n",
            "[10, 20, 50, 'H', 'T', 'M', 'L']\n",
            "[10, 20, 50, 'H', 'T', 'M', 'L', 888]\n",
            "1\n",
            "[10, 20, 50, 'H', 'T', 'M', 'L', 888]\n",
            "[888, 'L', 'M', 'T', 'H', 50, 20, 10]\n",
            "['r', 's', 'u']\n",
            "['s', 'u']\n",
            "['s']\n",
            "[]\n"
          ]
        }
      ]
    },
    {
      "cell_type": "markdown",
      "source": [
        "# 3.Implement the methods of Tuple with examples.\n"
      ],
      "metadata": {
        "id": "KiFPO70B31uD"
      }
    },
    {
      "cell_type": "code",
      "source": [
        "tuple1=(2,4,6,8,10,12,14,16,18,20)\n",
        "tuple2=(\"CSE\",\"ECE\",\"MECH\",\"CIVIL\")\n",
        "tuple3=(4,\"sru\",6.2,\"cse\")\n",
        "#indexing\n",
        "print(tuple1[4])\n",
        "print(tuple2[2])\n",
        "print(tuple3[2])\n",
        "#slicing\n",
        "print(tuple1[0:6])\n",
        "print(tuple2[::-1])\n",
        "print(tuple3[-4:-1])\n",
        "# tuple methods\n",
        "print(tuple1.count(10))\n",
        "print(tuple1.index(10))\n",
        "print(max(tuple1))\n",
        "print(min(tuple1))\n",
        "print(len(tuple3))"
      ],
      "metadata": {
        "colab": {
          "base_uri": "https://localhost:8080/"
        },
        "id": "aMV88YGM348J",
        "outputId": "2eda7e7c-9add-4850-c907-9685109e67a0"
      },
      "execution_count": null,
      "outputs": [
        {
          "output_type": "stream",
          "name": "stdout",
          "text": [
            "10\n",
            "MECH\n",
            "6.2\n",
            "(2, 4, 6, 8, 10, 12)\n",
            "('CIVIL', 'MECH', 'ECE', 'CSE')\n",
            "(4, 'sru', 6.2)\n",
            "1\n",
            "4\n",
            "20\n",
            "2\n",
            "4\n"
          ]
        }
      ]
    },
    {
      "cell_type": "markdown",
      "source": [
        "# 4.Implement the methods of Dictionary with examples."
      ],
      "metadata": {
        "id": "CMO6QYMb5qta"
      }
    },
    {
      "cell_type": "code",
      "source": [
        "dic1={'name':'Pujitha','branch':'CSE','college':'SR University','pincode':506001}\n",
        "print(dic1)\n",
        "print(dic1['name'])\n",
        "print(dic1.keys())\n",
        "print(dic1.values())\n",
        "print(dic1.get('pincode'))\n",
        "dic2=dic1.copy()\n",
        "print(dic2)\n",
        "print(dic1.items())\n",
        "dic1.update({'pincode':506006})\n",
        "print(dic1)\n",
        "dic1.pop('branch')\n",
        "print(dic1)\n",
        "dic1.popitem()\n",
        "dic1.clear()\n",
        "print(dic1)"
      ],
      "metadata": {
        "colab": {
          "base_uri": "https://localhost:8080/"
        },
        "id": "GX1pSJdx5tWX",
        "outputId": "3ad6a42e-1c64-43f7-a7b7-4cca10c87d13"
      },
      "execution_count": null,
      "outputs": [
        {
          "output_type": "stream",
          "name": "stdout",
          "text": [
            "{'name': 'Pujitha', 'branch': 'CSE', 'college': 'SR University', 'pincode': 506001}\n",
            "Pujitha\n",
            "dict_keys(['name', 'branch', 'college', 'pincode'])\n",
            "dict_values(['Pujitha', 'CSE', 'SR University', 506001])\n",
            "506001\n",
            "{'name': 'Pujitha', 'branch': 'CSE', 'college': 'SR University', 'pincode': 506001}\n",
            "dict_items([('name', 'Pujitha'), ('branch', 'CSE'), ('college', 'SR University'), ('pincode', 506001)])\n",
            "{'name': 'Pujitha', 'branch': 'CSE', 'college': 'SR University', 'pincode': 506006}\n",
            "{'name': 'Pujitha', 'college': 'SR University', 'pincode': 506006}\n",
            "{}\n"
          ]
        }
      ]
    },
    {
      "cell_type": "markdown",
      "source": [
        "# 5.Implement the methods of Set with examples."
      ],
      "metadata": {
        "id": "a6NbMJ-a6ncS"
      }
    },
    {
      "cell_type": "code",
      "source": [
        "set1={1,3,5,7,9,11,13,15,17,19,21,23,25,27,29}\n",
        "set2={1,5,10,\"sru\",(1,2,3)}\n",
        "#set methods\n",
        "set1.add(40)\n",
        "print(set1)\n",
        "set1.update([10,20,30])\n",
        "print(set1)\n",
        "set1.discard(17)\n",
        "print(set1)\n",
        "set1.remove(21)\n",
        "print(set1)\n",
        "set2=set1\n",
        "print(set2)\n",
        "print(set2.clear())\n",
        "print(set2)\n",
        "#set operations\n",
        "a={1,2,3,4,5,6,7,8}\n",
        "b={1,3,5,7,9}\n",
        "print(a and b)\n",
        "print(a or b)\n",
        "print(a.union(b))\n",
        "print(a.intersection(b))\n",
        "print(a.difference(b))\n",
        "print(b.difference(a))\n",
        "print(a.pop())"
      ],
      "metadata": {
        "colab": {
          "base_uri": "https://localhost:8080/"
        },
        "id": "aFkkVDnN6qiE",
        "outputId": "46448db4-93ed-4517-f6ce-c06b920ddd7e"
      },
      "execution_count": null,
      "outputs": [
        {
          "output_type": "stream",
          "name": "stdout",
          "text": [
            "{1, 3, 5, 7, 40, 9, 11, 13, 15, 17, 19, 21, 23, 25, 27, 29}\n",
            "{1, 3, 5, 7, 9, 10, 11, 13, 15, 17, 19, 20, 21, 23, 25, 27, 29, 30, 40}\n",
            "{1, 3, 5, 7, 9, 10, 11, 13, 15, 19, 20, 21, 23, 25, 27, 29, 30, 40}\n",
            "{1, 3, 5, 7, 9, 10, 11, 13, 15, 19, 20, 23, 25, 27, 29, 30, 40}\n",
            "{1, 3, 5, 7, 9, 10, 11, 13, 15, 19, 20, 23, 25, 27, 29, 30, 40}\n",
            "None\n",
            "set()\n",
            "{1, 3, 5, 7, 9}\n",
            "{1, 2, 3, 4, 5, 6, 7, 8}\n",
            "{1, 2, 3, 4, 5, 6, 7, 8, 9}\n",
            "{1, 3, 5, 7}\n",
            "{8, 2, 4, 6}\n",
            "{9}\n",
            "1\n"
          ]
        }
      ]
    },
    {
      "cell_type": "markdown",
      "source": [
        "# 6.Write a python program to convert Decimal to Binary, Octal and Hexadecimal with direct method."
      ],
      "metadata": {
        "id": "Be4096H97vT6"
      }
    },
    {
      "cell_type": "code",
      "source": [
        "#Decimal to BInary\n",
        "number=int(input('Enter a Number:'))\n",
        "def decimalToBinary(number):\n",
        "  if number>1:\n",
        "      decimalToBinary(number//2)\n",
        "  print(number%2,end=' ')\n",
        "decimalToBinary(number)\n",
        "print(\"\\n\")\n",
        "#Decimal to Octal\n",
        "number=int(input('enter a number:'))\n",
        "def decimalToOctal(number):\n",
        "  if number>1:\n",
        "      decimalToOctal(number//8)\n",
        "  print(number%8,end=' ')\n",
        "decimalToOctal(number)\n",
        "print(\"\\n\")\n",
        "#Decimal to Hexadecimal\n",
        "number=int(input('enter a number:'))\n",
        "def decimalToHexa(number):\n",
        "  if number>1:\n",
        "      decimalToHexa(number//16)\n",
        "  print(number%16,end=' ')\n",
        "decimalToHexa(number)"
      ],
      "metadata": {
        "colab": {
          "base_uri": "https://localhost:8080/"
        },
        "id": "F-66QQHk74wG",
        "outputId": "1460a6c6-c5cf-4823-86fe-e58e7c22c907"
      },
      "execution_count": null,
      "outputs": [
        {
          "output_type": "stream",
          "name": "stdout",
          "text": [
            "Enter a Number:5\n",
            "1 0 1 \n",
            "\n",
            "enter a number:246\n",
            "0 3 6 6 \n",
            "\n",
            "enter a number:42\n",
            "0 2 10 "
          ]
        }
      ]
    },
    {
      "cell_type": "markdown",
      "source": [
        "# 7.Implement Arithmetic operators with examples. "
      ],
      "metadata": {
        "id": "p9sxa6NS9G3F"
      }
    },
    {
      "cell_type": "code",
      "source": [
        "a=8+22  #addition\n",
        "b=8-22  #subtraction\n",
        "c=8*22  #multiplication\n",
        "d=8/22  #division\n",
        "x=8%22  #modulus\n",
        "y=8**22 #exponent\n",
        "z=8//22 #floor\n",
        "print(a,b,c,d,x,y,z)"
      ],
      "metadata": {
        "colab": {
          "base_uri": "https://localhost:8080/"
        },
        "id": "Ji-26SLq9MPU",
        "outputId": "556dda12-0b2d-4e86-d180-9ac3b82322a4"
      },
      "execution_count": null,
      "outputs": [
        {
          "output_type": "stream",
          "name": "stdout",
          "text": [
            "30 -14 176 0.36363636363636365 8 73786976294838206464 0\n"
          ]
        }
      ]
    },
    {
      "cell_type": "markdown",
      "source": [
        "# 8.Implement Assignment operators with examples."
      ],
      "metadata": {
        "id": "qDTOcpw_91EB"
      }
    },
    {
      "cell_type": "code",
      "source": [
        "#assignment operators\n",
        "a=10\n",
        "print(a)\n",
        "a+=5\n",
        "print(a)\n",
        "a-=2\n",
        "print(a)\n",
        "a*=6\n",
        "print(a)\n",
        "a/=4\n",
        "print(a)\n",
        "a%=5\n",
        "print(a)\n",
        "a//=5\n",
        "print(a)\n",
        "b=3\n",
        "b**=3\n",
        "print(b)"
      ],
      "metadata": {
        "colab": {
          "base_uri": "https://localhost:8080/"
        },
        "id": "oBUgdXof95tY",
        "outputId": "9a4e5522-3bec-4be0-9bc8-875182fc99cf"
      },
      "execution_count": null,
      "outputs": [
        {
          "output_type": "stream",
          "name": "stdout",
          "text": [
            "10\n",
            "15\n",
            "13\n",
            "78\n",
            "19.5\n",
            "4.5\n",
            "0.0\n",
            "27\n"
          ]
        }
      ]
    },
    {
      "cell_type": "markdown",
      "source": [
        "# 9.Implement Comparison operators with examples."
      ],
      "metadata": {
        "id": "RuBvGd4y-Y1J"
      }
    },
    {
      "cell_type": "code",
      "source": [
        "a=30\n",
        "b=10\n",
        "print(a==b)\n",
        "print(a>b)\n",
        "print(b>a)\n",
        "print(a>=b)\n",
        "print(a<=b)\n",
        "print(b>=a)\n",
        "print(b<=a)\n",
        "print(a!=b)"
      ],
      "metadata": {
        "colab": {
          "base_uri": "https://localhost:8080/"
        },
        "id": "dtdhbgIv-bZp",
        "outputId": "5f5e71a4-9e75-4bfd-f5e1-d489f2983db4"
      },
      "execution_count": 20,
      "outputs": [
        {
          "output_type": "stream",
          "name": "stdout",
          "text": [
            "False\n",
            "True\n",
            "False\n",
            "True\n",
            "False\n",
            "False\n",
            "True\n",
            "True\n"
          ]
        }
      ]
    },
    {
      "cell_type": "markdown",
      "source": [
        "# 10.Implement Logical operators with examples."
      ],
      "metadata": {
        "id": "tZiQJHGA-0KI"
      }
    },
    {
      "cell_type": "code",
      "source": [
        "a=True\n",
        "b=False\n",
        "c=True\n",
        "print(a and b)\n",
        "print((a and b) and ( b and c))\n",
        "print((a and b) or ( b and c))\n",
        "print((a or b) and ( b or c))\n",
        "print(a or b)\n",
        "print(not a)\n",
        "a=12\n",
        "b=4\n",
        "print(a<15 and b<5)\n",
        "print(a<10 or b<5)\n",
        "print (not(a<10 or b<5))"
      ],
      "metadata": {
        "colab": {
          "base_uri": "https://localhost:8080/"
        },
        "id": "MYtZQsMp-2vD",
        "outputId": "902083ab-5517-4fcb-b753-7d9ce3a367e0"
      },
      "execution_count": 21,
      "outputs": [
        {
          "output_type": "stream",
          "name": "stdout",
          "text": [
            "False\n",
            "False\n",
            "False\n",
            "True\n",
            "True\n",
            "False\n",
            "True\n",
            "True\n",
            "False\n"
          ]
        }
      ]
    },
    {
      "cell_type": "markdown",
      "source": [
        "# 11.Implement Bitwise operators with examples."
      ],
      "metadata": {
        "id": "_zrL1di9_tX4"
      }
    },
    {
      "cell_type": "code",
      "source": [
        "a=25\n",
        "b=10\n",
        "print(a&b)\n",
        "print(a|b)\n",
        "print(~a)\n",
        "print(a>>2)\n",
        "print(a<<2)"
      ],
      "metadata": {
        "colab": {
          "base_uri": "https://localhost:8080/"
        },
        "id": "2RyeLRvb_zNL",
        "outputId": "afabf7b3-81ca-4ee2-a195-1ed2bd317365"
      },
      "execution_count": 22,
      "outputs": [
        {
          "output_type": "stream",
          "name": "stdout",
          "text": [
            "8\n",
            "27\n",
            "-26\n",
            "6\n",
            "100\n"
          ]
        }
      ]
    },
    {
      "cell_type": "markdown",
      "source": [
        "# 12.Implement Membership operators with examples."
      ],
      "metadata": {
        "id": "uqYRMsjD__Re"
      }
    },
    {
      "cell_type": "code",
      "source": [
        "x=\"BOOTCAMP\"\n",
        "y={1:\"java\",2:\"python\",3:\"c\"}\n",
        "print('A' in x)\n",
        "print('U' not in x)\n",
        "print(4 in y)\n",
        "print(\"HTML\" in y)"
      ],
      "metadata": {
        "colab": {
          "base_uri": "https://localhost:8080/"
        },
        "id": "HRmrKYd2ACE3",
        "outputId": "b980575b-468e-4247-c33a-4ac2460b71ca"
      },
      "execution_count": 25,
      "outputs": [
        {
          "output_type": "stream",
          "name": "stdout",
          "text": [
            "True\n",
            "True\n",
            "False\n",
            "False\n"
          ]
        }
      ]
    },
    {
      "cell_type": "markdown",
      "source": [
        "# 13.Implement Identity operators with examples."
      ],
      "metadata": {
        "id": "raWfNs4OAio6"
      }
    },
    {
      "cell_type": "code",
      "source": [
        "x=[\"10\",\"15\",\"25\"]\n",
        "y=[\"10\",\"15\",\"30\"]\n",
        "print(x is y)\n",
        "print (x is not y)"
      ],
      "metadata": {
        "colab": {
          "base_uri": "https://localhost:8080/"
        },
        "id": "uN36PitvAnDy",
        "outputId": "0725f55f-8009-4f7b-8cf0-2d05bbd15bc2"
      },
      "execution_count": 27,
      "outputs": [
        {
          "output_type": "stream",
          "name": "stdout",
          "text": [
            "False\n",
            "True\n"
          ]
        }
      ]
    },
    {
      "cell_type": "markdown",
      "source": [
        "# 14.Demonstrate Negative indexing for List and apply slicing."
      ],
      "metadata": {
        "id": "1llr0Q-pA7Zb"
      }
    },
    {
      "cell_type": "code",
      "source": [
        "#negative indexing\n",
        "list1=[1,5,10,15,20,25,30]\n",
        "print(list1[-1])\n",
        "print(list1[-6])\n",
        "#slicing\n",
        "print(list1[-1::-1])\n",
        "print(list1[-5:-2])\n",
        "print(list1[::-1])\n",
        "list2=[1,5,[2,6,4],[3,7,9],100]\n",
        "print(list2[3][-1])\n",
        "print(list2[2][::-1])\n",
        "print(list2[3][1:3])\n",
        "list3=[2,4,6,8,[3,5,7,11],[100,200,300,400]]\n",
        "print(list3[1:3][::-1])"
      ],
      "metadata": {
        "colab": {
          "base_uri": "https://localhost:8080/"
        },
        "id": "0PQBS8WBBBKm",
        "outputId": "9ec0e5e8-f9a3-40f3-fdaf-fa7a917453c2"
      },
      "execution_count": 30,
      "outputs": [
        {
          "output_type": "stream",
          "name": "stdout",
          "text": [
            "30\n",
            "5\n",
            "[30, 25, 20, 15, 10, 5, 1]\n",
            "[10, 15, 20]\n",
            "[30, 25, 20, 15, 10, 5, 1]\n",
            "9\n",
            "[4, 6, 2]\n",
            "[7, 9]\n",
            "[6, 4]\n"
          ]
        }
      ]
    },
    {
      "cell_type": "markdown",
      "source": [
        "# 15.Predict the output for the given code snippet and justify the result.\n"
      ],
      "metadata": {
        "id": "c_216j-CBlms"
      }
    },
    {
      "cell_type": "code",
      "source": [
        "print('A series of characters designated as one subject know as a string'[::-1][4::3])\n",
        "#justification\n",
        "''' reverse of statement is   'gnirts a sa wonk tcejbus eno sa detangised sretcarahc fo seires A' \n",
        "and [4::3] takes index 4 and then leaves one letter and prints next\n",
        "output:'taao eue  tgestrcoeeA'   '''\n",
        "print(\"\\n------------------------------------\")\n",
        "print('Welcome to python training program'[3:10][::-1])  \n",
        "#justification\n",
        "#index from 3 to 10  statement is come to and slicing[::-1] of it is output:ot emoc "
      ],
      "metadata": {
        "colab": {
          "base_uri": "https://localhost:8080/"
        },
        "id": "TVKUqsDkBrc6",
        "outputId": "22f88f65-3c16-4c6a-fe65-af0c734ebebf"
      },
      "execution_count": 31,
      "outputs": [
        {
          "output_type": "stream",
          "name": "stdout",
          "text": [
            "taao eue  tgestrcoeeA\n",
            "\n",
            "------------------------------------\n",
            "ot emoc\n"
          ]
        }
      ]
    },
    {
      "cell_type": "markdown",
      "source": [
        "# 16.Write a python code to get desired output."
      ],
      "metadata": {
        "id": "9FPpjpglCDbx"
      }
    },
    {
      "cell_type": "code",
      "source": [
        "p_phrase=\"was it a car or a cat I saw\"\n",
        "print(p_phrase[::-1].upper())"
      ],
      "metadata": {
        "colab": {
          "base_uri": "https://localhost:8080/"
        },
        "id": "X2QiW5T0CGPL",
        "outputId": "39ba2e85-47d6-45dd-e377-be1af5c51906"
      },
      "execution_count": 32,
      "outputs": [
        {
          "output_type": "stream",
          "name": "stdout",
          "text": [
            "WAS I TAC A RO RAC A TI SAW\n"
          ]
        }
      ]
    },
    {
      "cell_type": "markdown",
      "source": [
        "# 17.You are required to generate a word similar to ZOO, X and Y that denote the number of Zs and Os respectively. The generated word similar to ZOO where Y= 2 * X. Input X= 2 Output ZZOOOO Input X= 5 Output ZZZZZOOOOOOOOOO"
      ],
      "metadata": {
        "id": "hj27dHliCPkt"
      }
    },
    {
      "cell_type": "code",
      "source": [
        "word='ZOO'\n",
        "X=int(input('Enter a number:'))\n",
        "Y=2*X\n",
        "print('Z'*X+'O'*Y)\n",
        "#for input 2 --> ZZOOOO\n",
        "#FOR INNPUT 5-->ZZZZZOOOOOOOOOO"
      ],
      "metadata": {
        "colab": {
          "base_uri": "https://localhost:8080/"
        },
        "id": "nnSD4wa5CXEL",
        "outputId": "aa64fb06-0b4b-4f2b-db81-b1acba652a15"
      },
      "execution_count": 33,
      "outputs": [
        {
          "output_type": "stream",
          "name": "stdout",
          "text": [
            "Enter a number:5\n",
            "ZZZZZOOOOOOOOOO\n"
          ]
        }
      ]
    }
  ]
}