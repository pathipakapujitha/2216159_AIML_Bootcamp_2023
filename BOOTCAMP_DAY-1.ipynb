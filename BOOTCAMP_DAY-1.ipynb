{
 "cells": [
  {
   "cell_type": "code",
   "execution_count": 2,
   "id": "327317ce",
   "metadata": {},
   "outputs": [
    {
     "name": "stdout",
     "output_type": "stream",
     "text": [
      "100 100.0 hi hello\n",
      "20.0\n",
      "5.0\n"
     ]
    }
   ],
   "source": [
    "#variables\n",
    "a=100\n",
    "amount=100.0\n",
    "str1=\"hi\"\n",
    "str2=\"hello\"\n",
    "'''this is doc string'''\n",
    "comp=20+5j\n",
    "print(a,amount,str1,str2)\n",
    "print(comp.real)\n",
    "print(comp.imag)"
   ]
  },
  {
   "cell_type": "code",
   "execution_count": 3,
   "id": "c0574f1b",
   "metadata": {},
   "outputs": [],
   "source": [
    "#datatypes\n",
    "\n",
    "#integer\n",
    "a=100\n",
    "b=1+2j\n",
    "\n",
    "#float\n",
    "amount=200.00\n",
    "\n",
    "#text type\n",
    "str1=\"hi\"\n",
    "\n",
    "#sequence\n",
    "list=[1,2,3,4]\n",
    "tup=(1,2,3)\n",
    "\n",
    "#set type\n",
    "set1={1,2,3}\n",
    "\n",
    "#mapping type\n",
    "my_dict={\"apple\":\"red\"}\n",
    "\n",
    "#none type\n",
    "x=None\n",
    "\n",
    "#Binary type\n",
    "x=b\"Hello\" #byte\n",
    "x=bytearray(5) #bytearrays\n",
    "x=memoryview(bytes(4)) #memory view"
   ]
  },
  {
   "cell_type": "code",
   "execution_count": 4,
   "id": "4435800d",
   "metadata": {},
   "outputs": [
    {
     "name": "stdout",
     "output_type": "stream",
     "text": [
      "3 2.0\n",
      "7.0\n",
      "3\n",
      "3\n"
     ]
    }
   ],
   "source": [
    "#type casting\n",
    "\n",
    "#expicit conversion\n",
    "b=2\n",
    "c=3.0\n",
    "d=int(c)\n",
    "e=float(b)\n",
    "\n",
    "print(d,e)\n",
    "\n",
    "#implicit conversion-automatically converts\n",
    "f=3\n",
    "g=4.0\n",
    "h=print(f+g)\n",
    "\n",
    "i=3\n",
    "sl=str(i)\n",
    "print(sl)\n",
    "j=int(sl)\n",
    "print(j)"
   ]
  },
  {
   "cell_type": "code",
   "execution_count": null,
   "id": "4a0ce119",
   "metadata": {},
   "outputs": [],
   "source": []
  }
 ],
 "metadata": {
  "kernelspec": {
   "display_name": "Python 3 (ipykernel)",
   "language": "python",
   "name": "python3"
  },
  "language_info": {
   "codemirror_mode": {
    "name": "ipython",
    "version": 3
   },
   "file_extension": ".py",
   "mimetype": "text/x-python",
   "name": "python",
   "nbconvert_exporter": "python",
   "pygments_lexer": "ipython3",
   "version": "3.9.7"
  }
 },
 "nbformat": 4,
 "nbformat_minor": 5
}
